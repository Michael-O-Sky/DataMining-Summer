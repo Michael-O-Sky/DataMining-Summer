{
  "cells": [
    {
      "cell_type": "markdown",
      "metadata": {
        "id": "0VwScgZ9GlW9"
      },
      "source": [
        "# Linear Regression - Mini-Project 1\n"
      ]
    },
    {
      "cell_type": "markdown",
      "metadata": {
        "id": "kf_WGdmVGlXC"
      },
      "source": [
        "***Edit this cell with your name(s), tutorial number(s) and ID(s)***\n",
        "\n",
        "---\n",
        "\n",
        "Name:\n",
        "\n",
        "ID:\n",
        "\n",
        "Tutorial:\n",
        "\n",
        "---\n",
        "\n",
        "Name:\n",
        "\n",
        "ID:\n",
        "\n",
        "Tutorial:\n",
        "\n",
        "---\n"
      ]
    },
    {
      "cell_type": "markdown",
      "metadata": {
        "id": "3TvnJldpGlXD"
      },
      "source": [
        "## Dataset Description\n",
        "\n",
        "The dataset contains historical car auction sales prices, scraped from the outside internet sources and collected in 2015.\n",
        "\n",
        "Each row represents a sale at a used car auction. Each column is described below.\n",
        "\n",
        "| Column       | Description                                                                                          |\n",
        "| ------------ | ---------------------------------------------------------------------------------------------------- |\n",
        "| year         | Car's year of production                                                                             |\n",
        "| make         | Car make/brand                                                                                       |\n",
        "| model        | Car model                                                                                            |\n",
        "| trim         | Car's trim or grade, which specifies a car model's level of performance, features, options or extras |\n",
        "| body         | Car body type (e.g. Sedan, SUV, Coupe, etc.)                                                         |\n",
        "| transmission | Car transmission type. The mechanism that moves the power from the engine to the wheels.             |\n",
        "| vin          | Vehicle Identification Number, a unique code to identify individual motor vehicles.                  |\n",
        "| state        | The state in which the car was auctioned.                                                            |\n",
        "| condition    | The condition of the cars being at the time of auction, 5 being the best score and 1 being the worst.|\n",
        "| odometer     | The distance traveled by a vehicle since being manufactured, in miles                                |\n",
        "| color        | Exterior color of the car                                                                            |\n",
        "| interior     | Interior color of the car                                                                            |\n",
        "| seller       | The seller of the car or car dealer                                                                  |\n",
        "| sellingprice | The price a car was sold at in auction.                                                              |\n",
        "| saledate     | The date on which the car has been sold.                                                             |\n",
        "\n"
      ]
    },
    {
      "cell_type": "markdown",
      "metadata": {
        "id": "dQ0levPKGlXD"
      },
      "source": [
        "## Importing Libraries \\& Dataset\n"
      ]
    },
    {
      "cell_type": "code",
      "execution_count": null,
      "metadata": {
        "colab": {
          "base_uri": "https://localhost:8080/",
          "height": 206
        },
        "id": "xgRwNxALGlXE",
        "outputId": "7d7734bd-9e31-477b-dd8f-9447d7d6616a"
      },
      "outputs": [
        {
          "output_type": "execute_result",
          "data": {
            "text/plain": [
              "   year     make         model   trim          body transmission  \\\n",
              "0  2013  Hyundai        Sonata    GLS         sedan    automatic   \n",
              "1  2014   Toyota       4Runner    SR5           SUV    automatic   \n",
              "2  2012    Lexus        IS 250   Base         Sedan    automatic   \n",
              "3  2002      BMW            X5   4.4i           SUV    automatic   \n",
              "4  2014     Ford  E-Series Van  E-250  E-Series Van    automatic   \n",
              "\n",
              "                 vin state  condition    odometer   color interior  \\\n",
              "0  5npeb4acxdh702805    ma        3.9   50404.0mi   black     gray   \n",
              "1  jtezu5jr2e5064567    fl        4.9   17846.0mi    gray        —   \n",
              "2  jthbf5c24c5168599    fl        4.1   21122.0mi  silver    black   \n",
              "3  5uxfb33562lh33864    fl        1.9  145303.0mi   black    black   \n",
              "4  1ftne2ew0eda31832    wa        4.9    6714.0mi   white     gray   \n",
              "\n",
              "                             seller sellingprice  \\\n",
              "0             the hertz corporation       $10900   \n",
              "1  award auto sales and leasing inc       $29900   \n",
              "2          lexus financial services       $24200   \n",
              "3                        peddle llc        $3200   \n",
              "4                            u-haul       $22100   \n",
              "\n",
              "                                  saledate  \n",
              "0  Tue Jun 02 2015 02:30:00 GMT-0700 (PDT)  \n",
              "1  Wed Feb 18 2015 07:15:00 GMT-0800 (PST)  \n",
              "2  Tue Jan 20 2015 01:30:00 GMT-0800 (PST)  \n",
              "3  Wed Mar 04 2015 07:10:00 GMT-0800 (PST)  \n",
              "4  Wed Feb 18 2015 06:45:00 GMT-0800 (PST)  "
            ],
            "text/html": [
              "\n",
              "  <div id=\"df-76ee744a-0947-4b4c-ad0e-c8d52458e043\" class=\"colab-df-container\">\n",
              "    <div>\n",
              "<style scoped>\n",
              "    .dataframe tbody tr th:only-of-type {\n",
              "        vertical-align: middle;\n",
              "    }\n",
              "\n",
              "    .dataframe tbody tr th {\n",
              "        vertical-align: top;\n",
              "    }\n",
              "\n",
              "    .dataframe thead th {\n",
              "        text-align: right;\n",
              "    }\n",
              "</style>\n",
              "<table border=\"1\" class=\"dataframe\">\n",
              "  <thead>\n",
              "    <tr style=\"text-align: right;\">\n",
              "      <th></th>\n",
              "      <th>year</th>\n",
              "      <th>make</th>\n",
              "      <th>model</th>\n",
              "      <th>trim</th>\n",
              "      <th>body</th>\n",
              "      <th>transmission</th>\n",
              "      <th>vin</th>\n",
              "      <th>state</th>\n",
              "      <th>condition</th>\n",
              "      <th>odometer</th>\n",
              "      <th>color</th>\n",
              "      <th>interior</th>\n",
              "      <th>seller</th>\n",
              "      <th>sellingprice</th>\n",
              "      <th>saledate</th>\n",
              "    </tr>\n",
              "  </thead>\n",
              "  <tbody>\n",
              "    <tr>\n",
              "      <th>0</th>\n",
              "      <td>2013</td>\n",
              "      <td>Hyundai</td>\n",
              "      <td>Sonata</td>\n",
              "      <td>GLS</td>\n",
              "      <td>sedan</td>\n",
              "      <td>automatic</td>\n",
              "      <td>5npeb4acxdh702805</td>\n",
              "      <td>ma</td>\n",
              "      <td>3.9</td>\n",
              "      <td>50404.0mi</td>\n",
              "      <td>black</td>\n",
              "      <td>gray</td>\n",
              "      <td>the hertz corporation</td>\n",
              "      <td>$10900</td>\n",
              "      <td>Tue Jun 02 2015 02:30:00 GMT-0700 (PDT)</td>\n",
              "    </tr>\n",
              "    <tr>\n",
              "      <th>1</th>\n",
              "      <td>2014</td>\n",
              "      <td>Toyota</td>\n",
              "      <td>4Runner</td>\n",
              "      <td>SR5</td>\n",
              "      <td>SUV</td>\n",
              "      <td>automatic</td>\n",
              "      <td>jtezu5jr2e5064567</td>\n",
              "      <td>fl</td>\n",
              "      <td>4.9</td>\n",
              "      <td>17846.0mi</td>\n",
              "      <td>gray</td>\n",
              "      <td>—</td>\n",
              "      <td>award auto sales and leasing inc</td>\n",
              "      <td>$29900</td>\n",
              "      <td>Wed Feb 18 2015 07:15:00 GMT-0800 (PST)</td>\n",
              "    </tr>\n",
              "    <tr>\n",
              "      <th>2</th>\n",
              "      <td>2012</td>\n",
              "      <td>Lexus</td>\n",
              "      <td>IS 250</td>\n",
              "      <td>Base</td>\n",
              "      <td>Sedan</td>\n",
              "      <td>automatic</td>\n",
              "      <td>jthbf5c24c5168599</td>\n",
              "      <td>fl</td>\n",
              "      <td>4.1</td>\n",
              "      <td>21122.0mi</td>\n",
              "      <td>silver</td>\n",
              "      <td>black</td>\n",
              "      <td>lexus financial services</td>\n",
              "      <td>$24200</td>\n",
              "      <td>Tue Jan 20 2015 01:30:00 GMT-0800 (PST)</td>\n",
              "    </tr>\n",
              "    <tr>\n",
              "      <th>3</th>\n",
              "      <td>2002</td>\n",
              "      <td>BMW</td>\n",
              "      <td>X5</td>\n",
              "      <td>4.4i</td>\n",
              "      <td>SUV</td>\n",
              "      <td>automatic</td>\n",
              "      <td>5uxfb33562lh33864</td>\n",
              "      <td>fl</td>\n",
              "      <td>1.9</td>\n",
              "      <td>145303.0mi</td>\n",
              "      <td>black</td>\n",
              "      <td>black</td>\n",
              "      <td>peddle llc</td>\n",
              "      <td>$3200</td>\n",
              "      <td>Wed Mar 04 2015 07:10:00 GMT-0800 (PST)</td>\n",
              "    </tr>\n",
              "    <tr>\n",
              "      <th>4</th>\n",
              "      <td>2014</td>\n",
              "      <td>Ford</td>\n",
              "      <td>E-Series Van</td>\n",
              "      <td>E-250</td>\n",
              "      <td>E-Series Van</td>\n",
              "      <td>automatic</td>\n",
              "      <td>1ftne2ew0eda31832</td>\n",
              "      <td>wa</td>\n",
              "      <td>4.9</td>\n",
              "      <td>6714.0mi</td>\n",
              "      <td>white</td>\n",
              "      <td>gray</td>\n",
              "      <td>u-haul</td>\n",
              "      <td>$22100</td>\n",
              "      <td>Wed Feb 18 2015 06:45:00 GMT-0800 (PST)</td>\n",
              "    </tr>\n",
              "  </tbody>\n",
              "</table>\n",
              "</div>\n",
              "    <div class=\"colab-df-buttons\">\n",
              "\n",
              "  <div class=\"colab-df-container\">\n",
              "    <button class=\"colab-df-convert\" onclick=\"convertToInteractive('df-76ee744a-0947-4b4c-ad0e-c8d52458e043')\"\n",
              "            title=\"Convert this dataframe to an interactive table.\"\n",
              "            style=\"display:none;\">\n",
              "\n",
              "  <svg xmlns=\"http://www.w3.org/2000/svg\" height=\"24px\" viewBox=\"0 -960 960 960\">\n",
              "    <path d=\"M120-120v-720h720v720H120Zm60-500h600v-160H180v160Zm220 220h160v-160H400v160Zm0 220h160v-160H400v160ZM180-400h160v-160H180v160Zm440 0h160v-160H620v160ZM180-180h160v-160H180v160Zm440 0h160v-160H620v160Z\"/>\n",
              "  </svg>\n",
              "    </button>\n",
              "\n",
              "  <style>\n",
              "    .colab-df-container {\n",
              "      display:flex;\n",
              "      gap: 12px;\n",
              "    }\n",
              "\n",
              "    .colab-df-convert {\n",
              "      background-color: #E8F0FE;\n",
              "      border: none;\n",
              "      border-radius: 50%;\n",
              "      cursor: pointer;\n",
              "      display: none;\n",
              "      fill: #1967D2;\n",
              "      height: 32px;\n",
              "      padding: 0 0 0 0;\n",
              "      width: 32px;\n",
              "    }\n",
              "\n",
              "    .colab-df-convert:hover {\n",
              "      background-color: #E2EBFA;\n",
              "      box-shadow: 0px 1px 2px rgba(60, 64, 67, 0.3), 0px 1px 3px 1px rgba(60, 64, 67, 0.15);\n",
              "      fill: #174EA6;\n",
              "    }\n",
              "\n",
              "    .colab-df-buttons div {\n",
              "      margin-bottom: 4px;\n",
              "    }\n",
              "\n",
              "    [theme=dark] .colab-df-convert {\n",
              "      background-color: #3B4455;\n",
              "      fill: #D2E3FC;\n",
              "    }\n",
              "\n",
              "    [theme=dark] .colab-df-convert:hover {\n",
              "      background-color: #434B5C;\n",
              "      box-shadow: 0px 1px 3px 1px rgba(0, 0, 0, 0.15);\n",
              "      filter: drop-shadow(0px 1px 2px rgba(0, 0, 0, 0.3));\n",
              "      fill: #FFFFFF;\n",
              "    }\n",
              "  </style>\n",
              "\n",
              "    <script>\n",
              "      const buttonEl =\n",
              "        document.querySelector('#df-76ee744a-0947-4b4c-ad0e-c8d52458e043 button.colab-df-convert');\n",
              "      buttonEl.style.display =\n",
              "        google.colab.kernel.accessAllowed ? 'block' : 'none';\n",
              "\n",
              "      async function convertToInteractive(key) {\n",
              "        const element = document.querySelector('#df-76ee744a-0947-4b4c-ad0e-c8d52458e043');\n",
              "        const dataTable =\n",
              "          await google.colab.kernel.invokeFunction('convertToInteractive',\n",
              "                                                    [key], {});\n",
              "        if (!dataTable) return;\n",
              "\n",
              "        const docLinkHtml = 'Like what you see? Visit the ' +\n",
              "          '<a target=\"_blank\" href=https://colab.research.google.com/notebooks/data_table.ipynb>data table notebook</a>'\n",
              "          + ' to learn more about interactive tables.';\n",
              "        element.innerHTML = '';\n",
              "        dataTable['output_type'] = 'display_data';\n",
              "        await google.colab.output.renderOutput(dataTable, element);\n",
              "        const docLink = document.createElement('div');\n",
              "        docLink.innerHTML = docLinkHtml;\n",
              "        element.appendChild(docLink);\n",
              "      }\n",
              "    </script>\n",
              "  </div>\n",
              "\n",
              "\n",
              "    <div id=\"df-8f879cae-d5ab-4e5e-b51e-897f36934738\">\n",
              "      <button class=\"colab-df-quickchart\" onclick=\"quickchart('df-8f879cae-d5ab-4e5e-b51e-897f36934738')\"\n",
              "                title=\"Suggest charts\"\n",
              "                style=\"display:none;\">\n",
              "\n",
              "<svg xmlns=\"http://www.w3.org/2000/svg\" height=\"24px\"viewBox=\"0 0 24 24\"\n",
              "     width=\"24px\">\n",
              "    <g>\n",
              "        <path d=\"M19 3H5c-1.1 0-2 .9-2 2v14c0 1.1.9 2 2 2h14c1.1 0 2-.9 2-2V5c0-1.1-.9-2-2-2zM9 17H7v-7h2v7zm4 0h-2V7h2v10zm4 0h-2v-4h2v4z\"/>\n",
              "    </g>\n",
              "</svg>\n",
              "      </button>\n",
              "\n",
              "<style>\n",
              "  .colab-df-quickchart {\n",
              "      --bg-color: #E8F0FE;\n",
              "      --fill-color: #1967D2;\n",
              "      --hover-bg-color: #E2EBFA;\n",
              "      --hover-fill-color: #174EA6;\n",
              "      --disabled-fill-color: #AAA;\n",
              "      --disabled-bg-color: #DDD;\n",
              "  }\n",
              "\n",
              "  [theme=dark] .colab-df-quickchart {\n",
              "      --bg-color: #3B4455;\n",
              "      --fill-color: #D2E3FC;\n",
              "      --hover-bg-color: #434B5C;\n",
              "      --hover-fill-color: #FFFFFF;\n",
              "      --disabled-bg-color: #3B4455;\n",
              "      --disabled-fill-color: #666;\n",
              "  }\n",
              "\n",
              "  .colab-df-quickchart {\n",
              "    background-color: var(--bg-color);\n",
              "    border: none;\n",
              "    border-radius: 50%;\n",
              "    cursor: pointer;\n",
              "    display: none;\n",
              "    fill: var(--fill-color);\n",
              "    height: 32px;\n",
              "    padding: 0;\n",
              "    width: 32px;\n",
              "  }\n",
              "\n",
              "  .colab-df-quickchart:hover {\n",
              "    background-color: var(--hover-bg-color);\n",
              "    box-shadow: 0 1px 2px rgba(60, 64, 67, 0.3), 0 1px 3px 1px rgba(60, 64, 67, 0.15);\n",
              "    fill: var(--button-hover-fill-color);\n",
              "  }\n",
              "\n",
              "  .colab-df-quickchart-complete:disabled,\n",
              "  .colab-df-quickchart-complete:disabled:hover {\n",
              "    background-color: var(--disabled-bg-color);\n",
              "    fill: var(--disabled-fill-color);\n",
              "    box-shadow: none;\n",
              "  }\n",
              "\n",
              "  .colab-df-spinner {\n",
              "    border: 2px solid var(--fill-color);\n",
              "    border-color: transparent;\n",
              "    border-bottom-color: var(--fill-color);\n",
              "    animation:\n",
              "      spin 1s steps(1) infinite;\n",
              "  }\n",
              "\n",
              "  @keyframes spin {\n",
              "    0% {\n",
              "      border-color: transparent;\n",
              "      border-bottom-color: var(--fill-color);\n",
              "      border-left-color: var(--fill-color);\n",
              "    }\n",
              "    20% {\n",
              "      border-color: transparent;\n",
              "      border-left-color: var(--fill-color);\n",
              "      border-top-color: var(--fill-color);\n",
              "    }\n",
              "    30% {\n",
              "      border-color: transparent;\n",
              "      border-left-color: var(--fill-color);\n",
              "      border-top-color: var(--fill-color);\n",
              "      border-right-color: var(--fill-color);\n",
              "    }\n",
              "    40% {\n",
              "      border-color: transparent;\n",
              "      border-right-color: var(--fill-color);\n",
              "      border-top-color: var(--fill-color);\n",
              "    }\n",
              "    60% {\n",
              "      border-color: transparent;\n",
              "      border-right-color: var(--fill-color);\n",
              "    }\n",
              "    80% {\n",
              "      border-color: transparent;\n",
              "      border-right-color: var(--fill-color);\n",
              "      border-bottom-color: var(--fill-color);\n",
              "    }\n",
              "    90% {\n",
              "      border-color: transparent;\n",
              "      border-bottom-color: var(--fill-color);\n",
              "    }\n",
              "  }\n",
              "</style>\n",
              "\n",
              "      <script>\n",
              "        async function quickchart(key) {\n",
              "          const quickchartButtonEl =\n",
              "            document.querySelector('#' + key + ' button');\n",
              "          quickchartButtonEl.disabled = true;  // To prevent multiple clicks.\n",
              "          quickchartButtonEl.classList.add('colab-df-spinner');\n",
              "          try {\n",
              "            const charts = await google.colab.kernel.invokeFunction(\n",
              "                'suggestCharts', [key], {});\n",
              "          } catch (error) {\n",
              "            console.error('Error during call to suggestCharts:', error);\n",
              "          }\n",
              "          quickchartButtonEl.classList.remove('colab-df-spinner');\n",
              "          quickchartButtonEl.classList.add('colab-df-quickchart-complete');\n",
              "        }\n",
              "        (() => {\n",
              "          let quickchartButtonEl =\n",
              "            document.querySelector('#df-8f879cae-d5ab-4e5e-b51e-897f36934738 button');\n",
              "          quickchartButtonEl.style.display =\n",
              "            google.colab.kernel.accessAllowed ? 'block' : 'none';\n",
              "        })();\n",
              "      </script>\n",
              "    </div>\n",
              "\n",
              "    </div>\n",
              "  </div>\n"
            ],
            "application/vnd.google.colaboratory.intrinsic+json": {
              "type": "dataframe",
              "variable_name": "df",
              "summary": "{\n  \"name\": \"df\",\n  \"rows\": 46578,\n  \"fields\": [\n    {\n      \"column\": \"year\",\n      \"properties\": {\n        \"dtype\": \"number\",\n        \"std\": 3,\n        \"min\": 1990,\n        \"max\": 2015,\n        \"num_unique_values\": 26,\n        \"samples\": [\n          2010,\n          1996,\n          2013\n        ],\n        \"semantic_type\": \"\",\n        \"description\": \"\"\n      }\n    },\n    {\n      \"column\": \"make\",\n      \"properties\": {\n        \"dtype\": \"category\",\n        \"num_unique_values\": 48,\n        \"samples\": [\n          \"Isuzu\",\n          \"Geo\",\n          \"Porsche\"\n        ],\n        \"semantic_type\": \"\",\n        \"description\": \"\"\n      }\n    },\n    {\n      \"column\": \"model\",\n      \"properties\": {\n        \"dtype\": \"category\",\n        \"num_unique_values\": 648,\n        \"samples\": [\n          \"Transit Van\",\n          \"I35\",\n          \"RSX\"\n        ],\n        \"semantic_type\": \"\",\n        \"description\": \"\"\n      }\n    },\n    {\n      \"column\": \"trim\",\n      \"properties\": {\n        \"dtype\": \"category\",\n        \"num_unique_values\": 1097,\n        \"samples\": [\n          \"LT\",\n          \"2.2 Premium\",\n          \"T5\"\n        ],\n        \"semantic_type\": \"\",\n        \"description\": \"\"\n      }\n    },\n    {\n      \"column\": \"body\",\n      \"properties\": {\n        \"dtype\": \"category\",\n        \"num_unique_values\": 71,\n        \"samples\": [\n          \"SuperCab\",\n          \"sedan\",\n          \"Mega Cab\"\n        ],\n        \"semantic_type\": \"\",\n        \"description\": \"\"\n      }\n    },\n    {\n      \"column\": \"transmission\",\n      \"properties\": {\n        \"dtype\": \"category\",\n        \"num_unique_values\": 2,\n        \"samples\": [\n          \"manual\",\n          \"automatic\"\n        ],\n        \"semantic_type\": \"\",\n        \"description\": \"\"\n      }\n    },\n    {\n      \"column\": \"vin\",\n      \"properties\": {\n        \"dtype\": \"string\",\n        \"num_unique_values\": 46578,\n        \"samples\": [\n          \"1c6rd7kt3cs239621\",\n          \"js2yb5a37d6102228\"\n        ],\n        \"semantic_type\": \"\",\n        \"description\": \"\"\n      }\n    },\n    {\n      \"column\": \"state\",\n      \"properties\": {\n        \"dtype\": \"category\",\n        \"num_unique_values\": 34,\n        \"samples\": [\n          \"ut\",\n          \"oh\"\n        ],\n        \"semantic_type\": \"\",\n        \"description\": \"\"\n      }\n    },\n    {\n      \"column\": \"condition\",\n      \"properties\": {\n        \"dtype\": \"number\",\n        \"std\": 0.9440085809891331,\n        \"min\": 1.0,\n        \"max\": 5.0,\n        \"num_unique_values\": 41,\n        \"samples\": [\n          2.1,\n          3.5\n        ],\n        \"semantic_type\": \"\",\n        \"description\": \"\"\n      }\n    },\n    {\n      \"column\": \"odometer\",\n      \"properties\": {\n        \"dtype\": \"string\",\n        \"num_unique_values\": 39460,\n        \"samples\": [\n          \"15677.0mi\",\n          \"42072.0mi\"\n        ],\n        \"semantic_type\": \"\",\n        \"description\": \"\"\n      }\n    },\n    {\n      \"column\": \"color\",\n      \"properties\": {\n        \"dtype\": \"category\",\n        \"num_unique_values\": 20,\n        \"samples\": [\n          \"black\",\n          \"charcoal\"\n        ],\n        \"semantic_type\": \"\",\n        \"description\": \"\"\n      }\n    },\n    {\n      \"column\": \"interior\",\n      \"properties\": {\n        \"dtype\": \"category\",\n        \"num_unique_values\": 17,\n        \"samples\": [\n          \"gray\",\n          \"\\u2014\"\n        ],\n        \"semantic_type\": \"\",\n        \"description\": \"\"\n      }\n    },\n    {\n      \"column\": \"seller\",\n      \"properties\": {\n        \"dtype\": \"category\",\n        \"num_unique_values\": 4686,\n        \"samples\": [\n          \"bachman subaru-volkswagen, llc\",\n          \"ohio mutual insurance company\"\n        ],\n        \"semantic_type\": \"\",\n        \"description\": \"\"\n      }\n    },\n    {\n      \"column\": \"sellingprice\",\n      \"properties\": {\n        \"dtype\": \"category\",\n        \"num_unique_values\": 953,\n        \"samples\": [\n          \"$3600\",\n          \"$68500\"\n        ],\n        \"semantic_type\": \"\",\n        \"description\": \"\"\n      }\n    },\n    {\n      \"column\": \"saledate\",\n      \"properties\": {\n        \"dtype\": \"object\",\n        \"num_unique_values\": 2286,\n        \"samples\": [\n          \"Thu Apr 30 2015 04:00:00 GMT-0700 (PDT)\",\n          \"Wed Jan 07 2015 02:00:00 GMT-0800 (PST)\"\n        ],\n        \"semantic_type\": \"\",\n        \"description\": \"\"\n      }\n    }\n  ]\n}"
            }
          },
          "metadata": {},
          "execution_count": 1
        }
      ],
      "source": [
        "import pandas as pd\n",
        "import numpy as np\n",
        "import matplotlib.pyplot as plt\n",
        "import seaborn as sns\n",
        "\n",
        "%matplotlib inline\n",
        "sns.set()\n",
        "\n",
        "try:\n",
        "    df = pd.read_csv('car_prices.csv')\n",
        "except:\n",
        "    df = pd.read_csv('https://raw.githubusercontent.com/GUC-DM/Summer2025/refs/heads/main/data/car_prices.csv')\n",
        "\n",
        "df.head()"
      ]
    },
    {
      "cell_type": "markdown",
      "metadata": {
        "id": "ahyEuh5wGlXG"
      },
      "source": [
        "## Data Inspection\n",
        "\n",
        "Perform data inspection tasks here (recommended for data understanding)."
      ]
    },
    {
      "cell_type": "code",
      "execution_count": null,
      "metadata": {
        "id": "2QZtY_7OGlXH"
      },
      "outputs": [],
      "source": []
    },
    {
      "cell_type": "markdown",
      "metadata": {
        "id": "I15IKimDGlXH"
      },
      "source": [
        "## Data Pre-Processing & Cleaning\n",
        "\n",
        "_Apply any data preprocessing and/or feature engineering below. Show/output the changes to the dataset._"
      ]
    },
    {
      "cell_type": "code",
      "execution_count": null,
      "metadata": {
        "id": "s8aDMqOzGlXI"
      },
      "outputs": [],
      "source": []
    },
    {
      "cell_type": "markdown",
      "metadata": {
        "id": "BMN-1kWOGlXI"
      },
      "source": [
        "## Exploratory Data Analysis\n"
      ]
    },
    {
      "cell_type": "markdown",
      "metadata": {
        "id": "5-9Qlw6yGlXI"
      },
      "source": [
        "**Q0 (example): What is the most popular car exterior color?**\n"
      ]
    },
    {
      "cell_type": "markdown",
      "metadata": {
        "id": "fSEPQdKRGlXJ"
      },
      "source": [
        "**Visualization**"
      ]
    },
    {
      "cell_type": "code",
      "execution_count": null,
      "metadata": {
        "colab": {
          "base_uri": "https://localhost:8080/",
          "height": 476
        },
        "id": "QSlSQPAUGlXJ",
        "outputId": "99783dab-6a76-4fc4-d33d-d1da82f41450"
      },
      "outputs": [
        {
          "output_type": "execute_result",
          "data": {
            "text/plain": [
              "<Axes: xlabel='color', ylabel='count'>"
            ]
          },
          "metadata": {},
          "execution_count": 2
        },
        {
          "output_type": "display_data",
          "data": {
            "text/plain": [
              "<Figure size 640x480 with 1 Axes>"
            ],
            "image/png": "[encoded data removed]"
          },
          "metadata": {}
        }
      ],
      "source": [
        "# Basic, minimal plot example\n",
        "sns.countplot(x='color', data=df)"
      ]
    },
    {
      "cell_type": "code",
      "execution_count": null,
      "metadata": {
        "colab": {
          "base_uri": "https://localhost:8080/",
          "height": 480
        },
        "id": "aOPRUyZJGlXJ",
        "outputId": "775d2474-35bf-4bb1-bc42-a2535189ad27"
      },
      "outputs": [
        {
          "output_type": "display_data",
          "data": {
            "text/plain": [
              "<Figure size 640x480 with 1 Axes>"
            ],
            "image/png": "[encoded data removed]"
          },
          "metadata": {}
        }
      ],
      "source": [
        "# Much better plot, with sorting in descending order, rotated x-axis labels for clarity, and a plot title\n",
        "# Your visualizations should be neatly presented like the example below.\n",
        "large_to_small = df.groupby('color').size().sort_values(ascending=False)\n",
        "sns.countplot(x='color', data=df, order=large_to_small.index).set(title='Most popular colors sold on the used car auction market')\n",
        "plt.xticks(rotation=90)\n",
        "plt.tight_layout()"
      ]
    },
    {
      "cell_type": "markdown",
      "metadata": {
        "id": "lr0FYoAYGlXK"
      },
      "source": [
        "**Example note:** _you need to answer using a visualization (above) and a written/text answer (below)._\n",
        "\n",
        "**Answer for Q0**: Black is the most popular exterior color of used cars sold in auctions, followed very closely by white."
      ]
    },
    {
      "cell_type": "markdown",
      "metadata": {
        "id": "WEJbCCvuGlXK"
      },
      "source": [
        "**Q1: What are the most popular car brands? (mention at least 3)**\n"
      ]
    },
    {
      "cell_type": "markdown",
      "metadata": {
        "id": "F9XKQUGzGlXK"
      },
      "source": [
        "**Visualization**"
      ]
    },
    {
      "cell_type": "code",
      "execution_count": null,
      "metadata": {
        "id": "fHflQ7LPGlXK"
      },
      "outputs": [],
      "source": []
    },
    {
      "cell_type": "markdown",
      "metadata": {
        "id": "PHXyfKSpGlXK"
      },
      "source": [
        "**Answer for Q1**: Your answer here"
      ]
    },
    {
      "cell_type": "markdown",
      "metadata": {
        "id": "GpHemuSfGlXK"
      },
      "source": [
        "**Q2: Do automatic cars, on average, sell for a higher price than manual cars?**\n"
      ]
    },
    {
      "cell_type": "markdown",
      "metadata": {
        "id": "HdPf2JYHGlXK"
      },
      "source": [
        "**Visualization**"
      ]
    },
    {
      "cell_type": "code",
      "execution_count": null,
      "metadata": {
        "id": "uo35mbygGlXL"
      },
      "outputs": [],
      "source": []
    },
    {
      "cell_type": "markdown",
      "metadata": {
        "id": "ncrN2Vh6GlXL"
      },
      "source": [
        "**Answer for Q2**: Your answer here"
      ]
    },
    {
      "cell_type": "markdown",
      "metadata": {
        "id": "_TfNeMpjGlXL"
      },
      "source": [
        "**Q3: Draw a box plot showing the distribution of the selling prices of each car make. Which car makes have the widest distribution of selling price (name two)? Which are the most expensive (name two)?**\n"
      ]
    },
    {
      "cell_type": "markdown",
      "metadata": {
        "id": "_MyWpS5cGlXL"
      },
      "source": [
        "**Visualization**"
      ]
    },
    {
      "cell_type": "code",
      "execution_count": null,
      "metadata": {
        "id": "42t9P2GuGlXL"
      },
      "outputs": [],
      "source": []
    },
    {
      "cell_type": "markdown",
      "metadata": {
        "id": "-mfvdyEvGlXL"
      },
      "source": [
        "**Answer for Q3**: Your answer here"
      ]
    },
    {
      "cell_type": "markdown",
      "metadata": {
        "id": "lEUZWxTKGlXL"
      },
      "source": [
        "**Q4: How correlated is the odometer reading or mileage with the car's sale price? (Hint: plot a line of best fit.)**"
      ]
    },
    {
      "cell_type": "markdown",
      "metadata": {
        "id": "W5FGrAiFGlXL"
      },
      "source": [
        "**Visualization**"
      ]
    },
    {
      "cell_type": "code",
      "execution_count": null,
      "metadata": {
        "id": "QagdGim4GlXL"
      },
      "outputs": [],
      "source": []
    },
    {
      "cell_type": "markdown",
      "metadata": {
        "id": "ZOIyJxYzGlXL"
      },
      "source": [
        "**Answer for Q4**: Your answer here"
      ]
    },
    {
      "cell_type": "markdown",
      "metadata": {
        "id": "gGX7tD6hGlXL"
      },
      "source": [
        "**Q5: Likewise, how correlated is the car's condition with its sale price? (Hint: plot a line of best fit.)**"
      ]
    },
    {
      "cell_type": "markdown",
      "metadata": {
        "id": "aQbRZGXtGlXM"
      },
      "source": [
        "**Visualization**"
      ]
    },
    {
      "cell_type": "code",
      "execution_count": null,
      "metadata": {
        "id": "UbNAmlz6GlXM"
      },
      "outputs": [],
      "source": []
    },
    {
      "cell_type": "markdown",
      "metadata": {
        "id": "LHkNTrSgGlXM"
      },
      "source": [
        "**Answer for Q5**: Your answer here"
      ]
    },
    {
      "cell_type": "markdown",
      "metadata": {
        "id": "UD5xcCl2GlXM"
      },
      "source": [
        "**Q6: Are there differences in the average car price due to the car's body type? If so, rank their order and state the most expensive and least expensive car body type.**"
      ]
    },
    {
      "cell_type": "markdown",
      "metadata": {
        "id": "jLtVchAOGlXQ"
      },
      "source": [
        "**Visualization**"
      ]
    },
    {
      "cell_type": "code",
      "execution_count": null,
      "metadata": {
        "id": "DD7Fm1UVGlXQ"
      },
      "outputs": [],
      "source": []
    },
    {
      "cell_type": "markdown",
      "metadata": {
        "id": "j-uy2QwXGlXQ"
      },
      "source": [
        "**Answer for Q6**: Your answer here"
      ]
    },
    {
      "cell_type": "markdown",
      "metadata": {
        "id": "sYizcTCQGlXW"
      },
      "source": [
        "## Data Preparation for Modelling\n",
        "\n",
        "_Apply any additional data preparation steps needed before modelling below. Show/output the changes to the dataset._"
      ]
    },
    {
      "cell_type": "code",
      "execution_count": null,
      "metadata": {
        "id": "m9xMMNFCGlXX"
      },
      "outputs": [],
      "source": []
    },
    {
      "cell_type": "markdown",
      "metadata": {
        "id": "sGCX2OqjGlXX"
      },
      "source": [
        "## Modelling\n",
        "\n",
        "_Apply the linear regression model below._"
      ]
    },
    {
      "cell_type": "code",
      "execution_count": null,
      "metadata": {
        "id": "NY3ExngdGlXY"
      },
      "outputs": [],
      "source": []
    },
    {
      "cell_type": "markdown",
      "metadata": {
        "id": "OeYqMTtQGlXY"
      },
      "source": [
        "## Model Evaluation & Validation\n",
        "\n",
        "_Evaluate the model you applied and check if it meets the necessary assumptions for the chosen model._"
      ]
    },
    {
      "cell_type": "code",
      "execution_count": null,
      "metadata": {
        "id": "pEouEjz_GlXY"
      },
      "outputs": [],
      "source": []
    },
    {
      "cell_type": "markdown",
      "metadata": {
        "id": "yrZv31BnGlXY"
      },
      "source": [
        "## Conclusion and Recommendations\n",
        "\n",
        "Comment on the model accuracy and your findings from model evaluation and validation. State the problems (if any) and suggest possible solutions. Would you recommend this model for a used cars dealership that wants to get reliable estimates for used car prices?\n",
        "\n",
        "**Answer**: your answer here."
      ]
    }
  ],
  "metadata": {
    "interpreter": {
      "hash": "e7370f93d1d0cde622a1f8e1c04877d8463912d04d973331ad4851f04de6915a"
    },
    "kernelspec": {
      "display_name": "Python 3",
      "language": "python",
      "name": "python3"
    },
    "language_info": {
      "codemirror_mode": {
        "name": "ipython",
        "version": 3
      },
      "file_extension": ".py",
      "mimetype": "text/x-python",
      "name": "python",
      "nbconvert_exporter": "python",
      "pygments_lexer": "ipython3",
      "version": "3.8.3"
    },
    "colab": {
      "provenance": []
    }
  },
  "nbformat": 4,
  "nbformat_minor": 0
}